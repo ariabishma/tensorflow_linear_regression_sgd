{
  "nbformat": 4,
  "nbformat_minor": 0,
  "metadata": {
    "colab": {
      "name": "tensorflow_linear_regression.ipynb",
      "version": "0.3.2",
      "provenance": [],
      "collapsed_sections": [],
      "include_colab_link": true
    },
    "kernelspec": {
      "name": "python3",
      "display_name": "Python 3"
    }
  },
  "cells": [
    {
      "cell_type": "markdown",
      "metadata": {
        "id": "view-in-github",
        "colab_type": "text"
      },
      "source": [
        "<a href=\"https://colab.research.google.com/github/ariabishma/tensorflow_linear_regression_sgd/blob/master/tensorflow_linear_regression.ipynb\" target=\"_parent\"><img src=\"https://colab.research.google.com/assets/colab-badge.svg\" alt=\"Open In Colab\"/></a>"
      ]
    },
    {
      "cell_type": "code",
      "metadata": {
        "id": "Myn1fpZRI-Wj",
        "colab_type": "code",
        "colab": {}
      },
      "source": [
        "import matplotlib.pyplot as plt\n",
        "import tensorflow as tf\n",
        "import numpy as np"
      ],
      "execution_count": 0,
      "outputs": []
    },
    {
      "cell_type": "code",
      "metadata": {
        "id": "IEBKfVh4JBXO",
        "colab_type": "code",
        "colab": {}
      },
      "source": [
        "x = np.linspace(0, 50, 50) \n",
        "y = np.linspace(0, 50, 50) \n",
        " \n",
        "# Adding noise to the random linear data \n",
        "x += np.random.uniform(-4, 4, 50) \n",
        "y += np.random.uniform(-4, 4, 50) "
      ],
      "execution_count": 0,
      "outputs": []
    },
    {
      "cell_type": "code",
      "metadata": {
        "id": "r93ymyBZJC8n",
        "colab_type": "code",
        "colab": {
          "base_uri": "https://localhost:8080/",
          "height": 295
        },
        "outputId": "cd31beea-0e4e-4b55-a88b-7eb4e81b69b8"
      },
      "source": [
        "#init scatter plot\n",
        "plt.scatter(x, y) \n",
        "plt.xlabel('Input') # add label from left to right\n",
        "plt.ylabel('Prediction') # add label from bottom to top\n",
        "plt.title(\"Training Data\") # add global label\n",
        "plt.grid(1) # show grid\n",
        "plt.show() # draw our plot"
      ],
      "execution_count": 4,
      "outputs": [
        {
          "output_type": "display_data",
          "data": {
            "image/png": "[encoded data removed]",
            "text/plain": [
              "<Figure size 432x288 with 1 Axes>"
            ]
          },
          "metadata": {
            "tags": []
          }
        }
      ]
    },
    {
      "cell_type": "code",
      "metadata": {
        "id": "pmSfDNecJH6_",
        "colab_type": "code",
        "colab": {}
      },
      "source": [
        "def MakePrediction(xinput,m_train,b_train):\n",
        "    \n",
        "    # define x , m and b to tensorflow placeholder\n",
        "    xp = tf.placeholder(dtype=tf.float64,name=\"xp\")\n",
        "    mp = tf.placeholder(dtype=tf.float64,name=\"mp\")\n",
        "    bp = tf.placeholder(dtype=tf.float64,name=\"bp\")\n",
        "    \n",
        "    # compute prediction\n",
        "    z = mp * xp + bp\n",
        "    # start tensorflow session\n",
        "    ses = tf.Session()\n",
        "    \n",
        "    # run variable z with tensorflow session\n",
        "    pred = ses.run(z,feed_dict={xp:xinput,mp:m_train,bp:b_train})\n",
        "    # returning pred variable\n",
        "    return pred# closing session\n",
        "    ses.close()"
      ],
      "execution_count": 0,
      "outputs": []
    },
    {
      "cell_type": "code",
      "metadata": {
        "id": "o6piphIkJJz9",
        "colab_type": "code",
        "colab": {}
      },
      "source": [
        "def TrainModel(xinput,yinput,learn_rate,epoch):\n",
        "     # init x and y tensor variable\n",
        "      X = tf.placeholder(dtype=tf.float64,name='X')\n",
        "      Y = tf.placeholder(dtype=tf.float64,name='Y')\n",
        "\n",
        "      # initializing m and b with random number\n",
        "      M = tf.Variable(np.random.rand(),dtype=tf.float64,name='M')\n",
        "      B = tf.Variable(np.random.rand(),dtype=tf.float64,name='B')\n",
        "\n",
        "      Z = M * X + B\n",
        "\n",
        "      # compute mean squared error\n",
        "      loss = tf.reduce_sum(tf.pow(Z-Y, 2)) / (2 * len(xinput)) \n",
        "\n",
        "      # performing gradient descent optimizer for updating m and b \n",
        "      train = tf.train.GradientDescentOptimizer(learn_rate).minimize(loss)\n",
        "\n",
        "      # init variable for store all losse\n",
        "      losses = []\n",
        "\n",
        "      # initializing all tensorflow variables\n",
        "      var_init = tf.global_variables_initializer()\n",
        "\n",
        "      with tf.Session() as ses:\n",
        "        ses.run(var_init) # running var_init with tensorflow\n",
        "        \n",
        "        for i in range(epoch):\n",
        "          \n",
        "          # running loss with tensorflow\n",
        "          losses.append(ses.run(loss,feed_dict={X:xinput,Y:yinput})) \n",
        "          \n",
        "          ses.run(train,feed_dict={X:xinput,Y:yinput}) \n",
        "  \n",
        "          if i % 50 == 0:\n",
        "            print(\"Epoch = \",i,\"/\",epoch,\" , loss = \",ses.run(loss,feed_dict={X:xinput,Y:yinput}))\n",
        "        \n",
        "          m_train = ses.run(M,feed_dict={X:xinput,Y:yinput}) \n",
        "          b_train = ses.run(B,feed_dict={X:xinput,Y:yinput}) \n",
        "\n",
        "      return m_train,b_train,losses"
      ],
      "execution_count": 0,
      "outputs": []
    },
    {
      "cell_type": "code",
      "metadata": {
        "id": "xqz8drMeJMOm",
        "colab_type": "code",
        "colab": {
          "base_uri": "https://localhost:8080/",
          "height": 280
        },
        "outputId": "257b364b-b25c-4616-d066-a55351add3ca"
      },
      "source": [
        "# run train model with 0.00001 learning rate and 500 epoch\n",
        "m,b,err = TrainModel(x,y,0.00001,500)"
      ],
      "execution_count": 15,
      "outputs": [
        {
          "output_type": "stream",
          "text": [
            "WARNING: Logging before flag parsing goes to stderr.\n",
            "W0824 05:48:49.525238 140188550203264 deprecation.py:323] From /usr/local/lib/python3.6/dist-packages/tensorflow/python/ops/math_grad.py:1205: add_dispatch_support.<locals>.wrapper (from tensorflow.python.ops.array_ops) is deprecated and will be removed in a future version.\n",
            "Instructions for updating:\n",
            "Use tf.where in 2.0, which has the same broadcast rule as np.where\n"
          ],
          "name": "stderr"
        },
        {
          "output_type": "stream",
          "text": [
            "Epoch =  0 / 500  , loss =  266.459516643778\n",
            "Epoch =  50 / 500  , loss =  116.96637178330239\n",
            "Epoch =  100 / 500  , loss =  53.49931644351228\n",
            "Epoch =  150 / 500  , loss =  26.554487516513028\n",
            "Epoch =  200 / 500  , loss =  15.115106176337056\n",
            "Epoch =  250 / 500  , loss =  10.258535592462252\n",
            "Epoch =  300 / 500  , loss =  8.196685845465456\n",
            "Epoch =  350 / 500  , loss =  7.321329960496741\n",
            "Epoch =  400 / 500  , loss =  6.9496979775892855\n",
            "Epoch =  450 / 500  , loss =  6.791921099910685\n"
          ],
          "name": "stdout"
        }
      ]
    },
    {
      "cell_type": "code",
      "metadata": {
        "id": "5r8NFOYvK4jL",
        "colab_type": "code",
        "colab": {
          "base_uri": "https://localhost:8080/",
          "height": 295
        },
        "outputId": "70110e74-ce67-44ae-941b-21394629847d"
      },
      "source": [
        "plt.plot(MakePrediction(np.linspace(0,50,50),m,b))\n",
        "plt.scatter(x,y,color=\"r\")\n",
        "plt.title(\"Linear Regression Result\")\n",
        "plt.xlabel(\"input\")\n",
        "plt.ylabel(\"prediction\")\n",
        "plt.grid(1)"
      ],
      "execution_count": 17,
      "outputs": [
        {
          "output_type": "display_data",
          "data": {
            "image/png": "[encoded data removed]",
            "text/plain": [
              "<Figure size 432x288 with 1 Axes>"
            ]
          },
          "metadata": {
            "tags": []
          }
        }
      ]
    },
    {
      "cell_type": "code",
      "metadata": {
        "id": "V8Ur63wGK7DW",
        "colab_type": "code",
        "colab": {}
      },
      "source": [
        ""
      ],
      "execution_count": 0,
      "outputs": []
    }
  ]
}